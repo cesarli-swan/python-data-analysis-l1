{
 "cells": [
  {
   "cell_type": "markdown",
   "metadata": {},
   "source": [
    "# Intro to Python\n",
    "# tc1.me/spf-forms\n",
    "## Your first program\n",
    "\n",
    "Hello World!"
   ]
  },
  {
   "cell_type": "code",
   "execution_count": 10,
   "metadata": {},
   "outputs": [
    {
     "name": "stdout",
     "output_type": "stream",
     "text": [
      "Hello World!\n"
     ]
    }
   ],
   "source": [
    "print('Hello World!')"
   ]
  },
  {
   "cell_type": "markdown",
   "metadata": {},
   "source": [
    "`print` is a built-in function that output text to the terminal\n",
    "\n",
    "There are many built-in functions in python and we will look at them trough out the course\n"
   ]
  },
  {
   "cell_type": "markdown",
   "metadata": {},
   "source": [
    "## Comments\n",
    "\n",
    "Comments are blocks of code that are ignored by the interpreter (they are not executed) they are used as a way to give information to other developers or notes for your future self.\n",
    "\n",
    "Commented out code will not execute."
   ]
  },
  {
   "cell_type": "code",
   "execution_count": 2,
   "metadata": {},
   "outputs": [
    {
     "data": {
      "text/plain": [
       "'\\nMulti line comment \\n'"
      ]
     },
     "execution_count": 2,
     "metadata": {},
     "output_type": "execute_result"
    }
   ],
   "source": [
    "# comment start with hash (shortcut is ctrl + /)\n",
    "\n",
    "\"\"\"\n",
    "Multi line comment \n",
    "\"\"\""
   ]
  },
  {
   "cell_type": "markdown",
   "metadata": {},
   "source": [
    "## Indentation\n",
    "\n",
    "Indentation is organising code in a hierarchical manners using tabs before a line of code. \n",
    "\n",
    "Each tab represents a level of indentation. \n",
    "\n",
    "While in most languages indentation is mostly for style and readability, in Python it is necessary for the code to execute in the proper order.\n",
    "\n",
    "Only tabs are acceptable. [Silicon Valley got it right  ](https://www.youtube.com/watch?v=SsoOG6ZeyUI)"
   ]
  },
  {
   "cell_type": "code",
   "execution_count": 3,
   "metadata": {},
   "outputs": [],
   "source": [
    "# ----INDENTATION-----\n",
    "  #only tab is acceptable\n",
    "    #level 2\n",
    "      #level 3\n",
    "        "
   ]
  },
  {
   "cell_type": "markdown",
   "metadata": {},
   "source": [
    "## Variables\n",
    "* Variables are names assigned to values\n",
    "* The 1st character must be _ or a letter\n",
    "* Then you can use letters, numbers or _\n",
    "* Variable names are type sensitive"
   ]
  },
  {
   "cell_type": "code",
   "execution_count": 4,
   "metadata": {},
   "outputs": [
    {
     "name": "stdout",
     "output_type": "stream",
     "text": [
      "10\n",
      "Hello World!\n",
      "3.14\n"
     ]
    }
   ],
   "source": [
    "a = 10\n",
    "print(a)\n",
    "\n",
    "vara = 'Hello World!'\n",
    "print(vara)\n",
    "\n",
    "\n",
    "# variables are written in camelCase\n",
    "aNewVariable: int = 5\n",
    "\n",
    "# constants are written all caps in snake_case\n",
    "THIS_IS_A_CONSTANT = 3.14\n",
    "print(THIS_IS_A_CONSTANT)"
   ]
  },
  {
   "cell_type": "markdown",
   "metadata": {},
   "source": [
    "## Types (rant warning)\n",
    "python is a dynamically typed language so type is usually inferred but luckily we can statically type if we want"
   ]
  },
  {
   "cell_type": "code",
   "execution_count": 5,
   "metadata": {},
   "outputs": [
    {
     "name": "stdout",
     "output_type": "stream",
     "text": [
      "<class 'int'>\n",
      "<class 'int'>\n",
      "<class 'float'>\n",
      "<class 'bool'>\n",
      "<class 'str'>\n",
      "<class 'str'>\n",
      "<class 'str'>\n"
     ]
    }
   ],
   "source": [
    "# find type of variable or element\n",
    "print(type(a))\n",
    "\n",
    "# integer\n",
    "b: int = 10\n",
    "print(type(b))\n",
    "\n",
    "# floating point number \n",
    "f: float = 1.5\n",
    "print(type(f))\n",
    "\n",
    "# boolean\n",
    "g: bool = True\n",
    "print(type(g))\n",
    "\n",
    "# strings\n",
    "c: str = 'String'\n",
    "print(type(c))\n",
    "d: str = \"Still a string\"\n",
    "print(type(d))\n",
    "e: str = '''A string with apostrophe' and quotes\" '''\n",
    "print(type(e))"
   ]
  },
  {
   "cell_type": "markdown",
   "metadata": {},
   "source": [
    "## Operators"
   ]
  },
  {
   "cell_type": "code",
   "execution_count": 6,
   "metadata": {},
   "outputs": [
    {
     "name": "stdout",
     "output_type": "stream",
     "text": [
      "15\n",
      "5\n",
      "50\n",
      "2.0\n",
      "0\n",
      "100000\n",
      "2\n"
     ]
    }
   ],
   "source": [
    "tmp: int = 10\n",
    "tmp2: int = 5\n",
    "\n",
    "# plus +\n",
    "print(tmp + tmp2)\n",
    "# minus -\n",
    "print(tmp - tmp2)\n",
    "# times *\n",
    "print(tmp * tmp2)\n",
    "# divide /\n",
    "print(tmp / tmp2)\n",
    "# modulus %\n",
    "print(tmp % tmp2)\n",
    "# exponent **\n",
    "print(tmp ** tmp2)\n",
    "# floor division //\n",
    "print(tmp // tmp2)"
   ]
  },
  {
   "cell_type": "markdown",
   "metadata": {},
   "source": [
    "## Logic"
   ]
  },
  {
   "cell_type": "code",
   "execution_count": 7,
   "metadata": {},
   "outputs": [
    {
     "name": "stdout",
     "output_type": "stream",
     "text": [
      "False\n",
      "True\n",
      "True\n",
      "True\n",
      "False\n",
      "False\n"
     ]
    }
   ],
   "source": [
    "# equals ==\n",
    "print(tmp == tmp2)\n",
    "# not equals !=\n",
    "print(tmp != tmp2)\n",
    "# greater than >\n",
    "print(tmp > tmp2)\n",
    "# greater equal >=\n",
    "print(tmp >= tmp2)\n",
    "# lesser than <\n",
    "print(tmp < tmp2)\n",
    "# lesser equal than <=\n",
    "print(tmp <= tmp2)"
   ]
  },
  {
   "cell_type": "markdown",
   "metadata": {},
   "source": [
    "## Assignement\n",
    "* assign =\n",
    "* plus equals +=\n",
    "* subtract equals -=\n",
    "* multiply equals *=\n",
    "* divide equals /="
   ]
  },
  {
   "cell_type": "markdown",
   "metadata": {},
   "source": [
    "## Logic Operators\n",
    "\n",
    "* and  &\n",
    "* or |\n",
    "* not !"
   ]
  },
  {
   "cell_type": "markdown",
   "metadata": {},
   "source": [
    "## Membership Operators\n",
    "* checks if element in sequence  in\n",
    "* checks if element is not in sequence not in"
   ]
  },
  {
   "cell_type": "markdown",
   "metadata": {},
   "source": [
    "## Maths\n",
    "\n",
    "In python there is a very useful maths library which contains a plethora of common mathematical operation functions.\n",
    "\n",
    "Below I listed the ones I consider the most useful\n",
    "\n",
    "### Note\n",
    "At the top of the below cell, we have two import statements, these are the way we call in external libraries, we will look at libraries later on"
   ]
  },
  {
   "cell_type": "code",
   "execution_count": 8,
   "metadata": {},
   "outputs": [
    {
     "name": "stdout",
     "output_type": "stream",
     "text": [
      "3.141592653589793\n",
      "abs(-1)  1\n",
      "max(5, 4)  5\n",
      "min(5, 4)  4\n",
      "pow(2, 2)  4\n",
      "ceil(4.5)  5\n",
      "floor(4.5)  4\n",
      "round(4.5)  4\n",
      "exp(1)  2.718281828459045\n",
      "log(e)  1.0\n",
      "log(100)  2.0\n",
      "sqrt(100)  10.0\n",
      "sin(0)  0.0\n",
      "cos(0)  1.0\n",
      "tan(0)  0.0\n",
      "asin(0)  0.0\n",
      "acos(0)  1.5707963267948966\n",
      "atan(0)  0.0\n",
      "radians(0)  0.0\n",
      "degrees(pi)  180.0\n",
      "Random 25\n",
      "True\n",
      "nan\n"
     ]
    }
   ],
   "source": [
    "import math\n",
    "import random\n",
    "\n",
    "#pi\n",
    "print(math.pi)\n",
    "# abs\n",
    "print(\"abs(-1) \", abs(-1))\n",
    "# max\n",
    "print(\"max(5, 4) \", max(5, 4))\n",
    "# min\n",
    "print(\"min(5, 4) \", min(5, 4))\n",
    "# power\n",
    "print(\"pow(2, 2) \", pow(2, 2))\n",
    "# round up\n",
    "print(\"ceil(4.5) \", math.ceil(4.5))\n",
    "# round down\n",
    "print(\"floor(4.5) \", math.floor(4.5))\n",
    "# round\n",
    "print(\"round(4.5) \", round(4.5))\n",
    "# exponent\n",
    "print(\"exp(1) \", math.exp(1))  \n",
    "# log(e)\n",
    "print(\"log(e) \", math.log(math.exp(1)))\n",
    "# base 10 log\n",
    "print(\"log(100) \", math.log(100, 10))  \n",
    "# square root\n",
    "print(\"sqrt(100) \", math.sqrt(100))\n",
    "# sin\n",
    "print(\"sin(0) \", math.sin(0))\n",
    "# cos\n",
    "print(\"cos(0) \", math.cos(0))\n",
    "# tan\n",
    "print(\"tan(0) \", math.tan(0))\n",
    "# asin\n",
    "print(\"asin(0) \", math.asin(0))\n",
    "# acos\n",
    "print(\"acos(0) \", math.acos(0))\n",
    "# atan\n",
    "print(\"atan(0) \", math.atan(0))\n",
    "# convert to radians\n",
    "print(\"radians(0) \", math.radians(0))\n",
    "# convert to degrees\n",
    "print(\"degrees(pi) \", math.degrees(math.pi))\n",
    "\n",
    "# Generate a random int in range\n",
    "print(\"Random\", random.randint(1, 101))\n",
    "\n",
    "# ----- NaN & inf -----\n",
    "# inf is infinity\n",
    "print(math.inf > 0)\n",
    " \n",
    "# NaN is used to represent a number that can't\n",
    "# be defined\n",
    "print(math.inf - math.inf)"
   ]
  },
  {
   "cell_type": "markdown",
   "metadata": {},
   "source": [
    "## Strings\n",
    "\n",
    "Strings are just collections of characters that we use to represent words and sentences\n",
    "\n",
    "There are several ways we can manipulate and compose strings, I listed the most useful below"
   ]
  },
  {
   "cell_type": "code",
   "execution_count": 9,
   "metadata": {},
   "outputs": [
    {
     "name": "stdout",
     "output_type": "stream",
     "text": [
      "I'll be ignored \\n\n",
      "I'll be ignored \n",
      " hello\n",
      "Hello You\n",
      "Length  9\n",
      "1st  H\n",
      "Last  u\n",
      "1st 3  Hel\n",
      "Every Other  HloY\n",
      "Goodbye You\n",
      "Goodbye you\n",
      "True\n",
      "False\n",
      "You Index  8\n",
      "Hello\n",
      "Some Words\n",
      "['A', 'string']\n",
      "5 + 5 = 10\n",
      "a string\n",
      "A STRING\n",
      "True\n",
      "True\n",
      "False\n"
     ]
    }
   ],
   "source": [
    "# Raw strings ignore escape sequences\n",
    "print(r\"I'll be ignored \\n\")\n",
    "print(\"I'll be ignored \\n hello\")\n",
    " \n",
    "# Combine strings with +\n",
    "print(\"Hello\" + \" \" + \"You\")\n",
    " \n",
    "# Get string length\n",
    "str: str = \"Hello You\"\n",
    "print(\"Length \", len(str))\n",
    " \n",
    "# Character at index\n",
    "print(\"1st \", str[0])\n",
    " \n",
    "# Last character\n",
    "print(\"Last \", str[-1])\n",
    " \n",
    "# 1st 3 chrs\n",
    "print(\"1st 3 \", str[0:3])  # Start, up to not including\n",
    " \n",
    "# Get every other character\n",
    "print(\"Every Other \", str[0:-1:2])  # Last is a step\n",
    " \n",
    "# You can't change an index value like this\n",
    "# str[0] = \"a\" because strings are immutable\n",
    "# (Can't Change)\n",
    "# You could do this\n",
    "str = str.replace(\"Hello\", \"Goodbye\")\n",
    "print(str)\n",
    " \n",
    "# You could also slice front and back and replace\n",
    "# what you want to change\n",
    "str = str[:8] + \"y\" + str[9:]\n",
    "print(str)\n",
    " \n",
    "# Test if string in string\n",
    "print(\"you\" in str)\n",
    " \n",
    "# Test if not in\n",
    "print(\"you\" not in str)\n",
    " \n",
    "# Find first index for match or -1\n",
    "print(\"You Index \", str.find(\"you\"))\n",
    " \n",
    "# Trim white space from right and left\n",
    "# also lstrip and rstrip\n",
    "print(\"    Hello    \".strip())\n",
    " \n",
    "# Convert a list into a string and separate with\n",
    "# spaces\n",
    "print(\" \".join([\"Some\", \"Words\"]))\n",
    " \n",
    "# Convert string into a list with a defined separator\n",
    "# or delimiter\n",
    "print(\"A, string\".split(\", \"))\n",
    " \n",
    "# Formatted output with f-string\n",
    "int1 = int2 = 5\n",
    "print(f'{int1} + {int2} = {int1 + int2}')\n",
    " \n",
    "# To lower and upper case\n",
    "print(\"A String\".lower())\n",
    "print(\"A String\".upper()) \n",
    " \n",
    "# Is letter or number\n",
    "print(\"abc123\".isalnum())\n",
    " \n",
    "# Is characters\n",
    "print(\"abc\".isalpha())\n",
    " \n",
    "# Is numbers\n",
    "print(\"abc\".isdigit())"
   ]
  },
  {
   "cell_type": "code",
   "execution_count": null,
   "metadata": {},
   "outputs": [],
   "source": []
  }
 ],
 "metadata": {
  "kernelspec": {
   "display_name": "Python 3",
   "language": "python",
   "name": "python3"
  },
  "language_info": {
   "codemirror_mode": {
    "name": "ipython",
    "version": 3
   },
   "file_extension": ".py",
   "mimetype": "text/x-python",
   "name": "python",
   "nbconvert_exporter": "python",
   "pygments_lexer": "ipython3",
   "version": "3.12.2"
  }
 },
 "nbformat": 4,
 "nbformat_minor": 4
}
