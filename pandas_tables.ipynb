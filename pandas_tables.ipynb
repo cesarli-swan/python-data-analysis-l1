{
 "cells": [
  {
   "cell_type": "markdown",
   "id": "a5abbcae-1033-49e7-9b36-a384d66a4c8f",
   "metadata": {},
   "source": [
    "# Pandas Web Scraping\n",
    "\n",
    "Get tables from wiki pages"
   ]
  },
  {
   "cell_type": "code",
   "execution_count": 1,
   "id": "97ee9627-aa5b-4515-957c-07cf4c70b0c5",
   "metadata": {},
   "outputs": [],
   "source": [
    "import pandas as pd # note the as keyword to rename libaraies\n",
    "import ssl\n",
    "ssl._create_default_https_context = ssl._create_unverified_context\n",
    "tables = pd.read_html('https://en.wikipedia.org/wiki/Viggo_Mortensen')\n"
   ]
  },
  {
   "cell_type": "code",
   "execution_count": 2,
   "id": "98364b2e-02b4-4621-8f6e-0f66ca5534e2",
   "metadata": {},
   "outputs": [
    {
     "data": {
      "text/plain": [
       "list"
      ]
     },
     "execution_count": 2,
     "metadata": {},
     "output_type": "execute_result"
    }
   ],
   "source": [
    "type(tables)"
   ]
  },
  {
   "cell_type": "code",
   "execution_count": 3,
   "id": "da556c06-9f8d-4551-9791-093e48967eb9",
   "metadata": {},
   "outputs": [
    {
     "data": {
      "text/plain": [
       "16"
      ]
     },
     "execution_count": 3,
     "metadata": {},
     "output_type": "execute_result"
    }
   ],
   "source": [
    "len(tables)"
   ]
  },
  {
   "cell_type": "code",
   "execution_count": 4,
   "id": "639dcb70-a50b-495c-bafd-3fb8521b21d4",
   "metadata": {},
   "outputs": [
    {
     "data": {
      "text/html": [
       "<div>\n",
       "<style scoped>\n",
       "    .dataframe tbody tr th:only-of-type {\n",
       "        vertical-align: middle;\n",
       "    }\n",
       "\n",
       "    .dataframe tbody tr th {\n",
       "        vertical-align: top;\n",
       "    }\n",
       "\n",
       "    .dataframe thead th {\n",
       "        text-align: right;\n",
       "    }\n",
       "</style>\n",
       "<table border=\"1\" class=\"dataframe\">\n",
       "  <thead>\n",
       "    <tr style=\"text-align: right;\">\n",
       "      <th></th>\n",
       "      <th>Viggo MortensenR</th>\n",
       "      <th>Viggo MortensenR.1</th>\n",
       "    </tr>\n",
       "  </thead>\n",
       "  <tbody>\n",
       "    <tr>\n",
       "      <th>0</th>\n",
       "      <td>Mortensen in 2020</td>\n",
       "      <td>Mortensen in 2020</td>\n",
       "    </tr>\n",
       "    <tr>\n",
       "      <th>1</th>\n",
       "      <td>Born</td>\n",
       "      <td>Viggo Peter Mortensen Jr. October 20, 1958 (ag...</td>\n",
       "    </tr>\n",
       "    <tr>\n",
       "      <th>2</th>\n",
       "      <td>Citizenship</td>\n",
       "      <td>United StatesDenmark[1]</td>\n",
       "    </tr>\n",
       "    <tr>\n",
       "      <th>3</th>\n",
       "      <td>Alma mater</td>\n",
       "      <td>St. Lawrence University</td>\n",
       "    </tr>\n",
       "    <tr>\n",
       "      <th>4</th>\n",
       "      <td>Occupations</td>\n",
       "      <td>Actorartistmusiciandirectorproducer</td>\n",
       "    </tr>\n",
       "    <tr>\n",
       "      <th>5</th>\n",
       "      <td>Years active</td>\n",
       "      <td>1984–present</td>\n",
       "    </tr>\n",
       "    <tr>\n",
       "      <th>6</th>\n",
       "      <td>Spouse</td>\n",
       "      <td>Exene Cervenka ​ ​(m. 1987; div. 1997)​</td>\n",
       "    </tr>\n",
       "    <tr>\n",
       "      <th>7</th>\n",
       "      <td>Partner</td>\n",
       "      <td>Ariadna Gil (2009–present)</td>\n",
       "    </tr>\n",
       "    <tr>\n",
       "      <th>8</th>\n",
       "      <td>Children</td>\n",
       "      <td>1</td>\n",
       "    </tr>\n",
       "    <tr>\n",
       "      <th>9</th>\n",
       "      <td>Awards</td>\n",
       "      <td>Full list</td>\n",
       "    </tr>\n",
       "  </tbody>\n",
       "</table>\n",
       "</div>"
      ],
      "text/plain": [
       "    Viggo MortensenR                                 Viggo MortensenR.1\n",
       "0  Mortensen in 2020                                  Mortensen in 2020\n",
       "1               Born  Viggo Peter Mortensen Jr. October 20, 1958 (ag...\n",
       "2        Citizenship                            United StatesDenmark[1]\n",
       "3         Alma mater                            St. Lawrence University\n",
       "4        Occupations                Actorartistmusiciandirectorproducer\n",
       "5       Years active                                       1984–present\n",
       "6             Spouse            Exene Cervenka ​ ​(m. 1987; div. 1997)​\n",
       "7            Partner                         Ariadna Gil (2009–present)\n",
       "8           Children                                                  1\n",
       "9             Awards                                          Full list"
      ]
     },
     "execution_count": 4,
     "metadata": {},
     "output_type": "execute_result"
    }
   ],
   "source": [
    "tables[0]"
   ]
  },
  {
   "cell_type": "code",
   "execution_count": 5,
   "id": "8e9e50c3-4c69-4f96-aca7-f9b5d83d4938",
   "metadata": {},
   "outputs": [
    {
     "data": {
      "text/html": [
       "<div>\n",
       "<style scoped>\n",
       "    .dataframe tbody tr th:only-of-type {\n",
       "        vertical-align: middle;\n",
       "    }\n",
       "\n",
       "    .dataframe tbody tr th {\n",
       "        vertical-align: top;\n",
       "    }\n",
       "\n",
       "    .dataframe thead th {\n",
       "        text-align: right;\n",
       "    }\n",
       "</style>\n",
       "<table border=\"1\" class=\"dataframe\">\n",
       "  <thead>\n",
       "    <tr style=\"text-align: right;\">\n",
       "      <th></th>\n",
       "      <th>0</th>\n",
       "      <th>1</th>\n",
       "    </tr>\n",
       "  </thead>\n",
       "  <tbody>\n",
       "    <tr>\n",
       "      <th>0</th>\n",
       "      <td>NaN</td>\n",
       "      <td>This section of a biography of a living person...</td>\n",
       "    </tr>\n",
       "  </tbody>\n",
       "</table>\n",
       "</div>"
      ],
      "text/plain": [
       "    0                                                  1\n",
       "0 NaN  This section of a biography of a living person..."
      ]
     },
     "execution_count": 5,
     "metadata": {},
     "output_type": "execute_result"
    }
   ],
   "source": [
    "tables[1]"
   ]
  },
  {
   "cell_type": "code",
   "execution_count": 6,
   "id": "57d75d6c-7a38-4151-919e-d2f3d8041ba5",
   "metadata": {},
   "outputs": [
    {
     "data": {
      "text/html": [
       "<div>\n",
       "<style scoped>\n",
       "    .dataframe tbody tr th:only-of-type {\n",
       "        vertical-align: middle;\n",
       "    }\n",
       "\n",
       "    .dataframe tbody tr th {\n",
       "        vertical-align: top;\n",
       "    }\n",
       "\n",
       "    .dataframe thead th {\n",
       "        text-align: right;\n",
       "    }\n",
       "</style>\n",
       "<table border=\"1\" class=\"dataframe\">\n",
       "  <thead>\n",
       "    <tr style=\"text-align: right;\">\n",
       "      <th></th>\n",
       "      <th>vteCanadian Screen Award for Best Supporting Performance in a Film</th>\n",
       "      <th>vteCanadian Screen Award for Best Supporting Performance in a Film.1</th>\n",
       "    </tr>\n",
       "  </thead>\n",
       "  <tbody>\n",
       "    <tr>\n",
       "      <th>0</th>\n",
       "      <td>Best Supporting Actor 1970–2021</td>\n",
       "      <td>Gratien Gélinas (1970) Danny Freedman (1971) D...</td>\n",
       "    </tr>\n",
       "    <tr>\n",
       "      <th>1</th>\n",
       "      <td>Best Supporting Actress 1970–2021</td>\n",
       "      <td>Fernande Giroux (1970) Olivette Thibault (1971...</td>\n",
       "    </tr>\n",
       "    <tr>\n",
       "      <th>2</th>\n",
       "      <td>Best Supporting Performance in a Film 2022</td>\n",
       "      <td>Aaron Pierre (2022)</td>\n",
       "    </tr>\n",
       "    <tr>\n",
       "      <th>3</th>\n",
       "      <td>Best Supporting Performance in a Comedy Film 2...</td>\n",
       "      <td>Glenn Howerton (2023)</td>\n",
       "    </tr>\n",
       "    <tr>\n",
       "      <th>4</th>\n",
       "      <td>Best Supporting Performance in a Drama Film 20...</td>\n",
       "      <td>Chantal Thuy (2023)</td>\n",
       "    </tr>\n",
       "    <tr>\n",
       "      <th>5</th>\n",
       "      <td>Canadian Film Awards 1968-1978, Genie Awards 1...</td>\n",
       "      <td>Canadian Film Awards 1968-1978, Genie Awards 1...</td>\n",
       "    </tr>\n",
       "  </tbody>\n",
       "</table>\n",
       "</div>"
      ],
      "text/plain": [
       "  vteCanadian Screen Award for Best Supporting Performance in a Film  \\\n",
       "0                    Best Supporting Actor 1970–2021                   \n",
       "1                  Best Supporting Actress 1970–2021                   \n",
       "2         Best Supporting Performance in a Film 2022                   \n",
       "3  Best Supporting Performance in a Comedy Film 2...                   \n",
       "4  Best Supporting Performance in a Drama Film 20...                   \n",
       "5  Canadian Film Awards 1968-1978, Genie Awards 1...                   \n",
       "\n",
       "  vteCanadian Screen Award for Best Supporting Performance in a Film.1  \n",
       "0  Gratien Gélinas (1970) Danny Freedman (1971) D...                    \n",
       "1  Fernande Giroux (1970) Olivette Thibault (1971...                    \n",
       "2                                Aaron Pierre (2022)                    \n",
       "3                              Glenn Howerton (2023)                    \n",
       "4                                Chantal Thuy (2023)                    \n",
       "5  Canadian Film Awards 1968-1978, Genie Awards 1...                    "
      ]
     },
     "execution_count": 6,
     "metadata": {},
     "output_type": "execute_result"
    }
   ],
   "source": [
    "tables[10]"
   ]
  },
  {
   "cell_type": "code",
   "execution_count": 7,
   "id": "3280ef19-039f-4649-b63d-3a5960fda2be",
   "metadata": {},
   "outputs": [],
   "source": [
    "tables[0].to_csv('films.csv')"
   ]
  },
  {
   "cell_type": "code",
   "execution_count": 8,
   "id": "223ba34c-14cd-4ebc-96ea-da941ab0549c",
   "metadata": {},
   "outputs": [],
   "source": [
    "films_table = pd.read_csv('films.csv')"
   ]
  },
  {
   "cell_type": "code",
   "execution_count": 9,
   "id": "d64e0e4b-8b9e-4065-a7fd-8a40e6a80863",
   "metadata": {},
   "outputs": [
    {
     "data": {
      "text/html": [
       "<div>\n",
       "<style scoped>\n",
       "    .dataframe tbody tr th:only-of-type {\n",
       "        vertical-align: middle;\n",
       "    }\n",
       "\n",
       "    .dataframe tbody tr th {\n",
       "        vertical-align: top;\n",
       "    }\n",
       "\n",
       "    .dataframe thead th {\n",
       "        text-align: right;\n",
       "    }\n",
       "</style>\n",
       "<table border=\"1\" class=\"dataframe\">\n",
       "  <thead>\n",
       "    <tr style=\"text-align: right;\">\n",
       "      <th></th>\n",
       "      <th>Unnamed: 0</th>\n",
       "      <th>Viggo MortensenR</th>\n",
       "      <th>Viggo MortensenR.1</th>\n",
       "    </tr>\n",
       "  </thead>\n",
       "  <tbody>\n",
       "    <tr>\n",
       "      <th>0</th>\n",
       "      <td>0</td>\n",
       "      <td>Mortensen in 2020</td>\n",
       "      <td>Mortensen in 2020</td>\n",
       "    </tr>\n",
       "    <tr>\n",
       "      <th>1</th>\n",
       "      <td>1</td>\n",
       "      <td>Born</td>\n",
       "      <td>Viggo Peter Mortensen Jr. October 20, 1958 (ag...</td>\n",
       "    </tr>\n",
       "    <tr>\n",
       "      <th>2</th>\n",
       "      <td>2</td>\n",
       "      <td>Citizenship</td>\n",
       "      <td>United StatesDenmark[1]</td>\n",
       "    </tr>\n",
       "    <tr>\n",
       "      <th>3</th>\n",
       "      <td>3</td>\n",
       "      <td>Alma mater</td>\n",
       "      <td>St. Lawrence University</td>\n",
       "    </tr>\n",
       "    <tr>\n",
       "      <th>4</th>\n",
       "      <td>4</td>\n",
       "      <td>Occupations</td>\n",
       "      <td>Actorartistmusiciandirectorproducer</td>\n",
       "    </tr>\n",
       "    <tr>\n",
       "      <th>5</th>\n",
       "      <td>5</td>\n",
       "      <td>Years active</td>\n",
       "      <td>1984–present</td>\n",
       "    </tr>\n",
       "    <tr>\n",
       "      <th>6</th>\n",
       "      <td>6</td>\n",
       "      <td>Spouse</td>\n",
       "      <td>Exene Cervenka ​ ​(m. 1987; div. 1997)​</td>\n",
       "    </tr>\n",
       "    <tr>\n",
       "      <th>7</th>\n",
       "      <td>7</td>\n",
       "      <td>Partner</td>\n",
       "      <td>Ariadna Gil (2009–present)</td>\n",
       "    </tr>\n",
       "    <tr>\n",
       "      <th>8</th>\n",
       "      <td>8</td>\n",
       "      <td>Children</td>\n",
       "      <td>1</td>\n",
       "    </tr>\n",
       "    <tr>\n",
       "      <th>9</th>\n",
       "      <td>9</td>\n",
       "      <td>Awards</td>\n",
       "      <td>Full list</td>\n",
       "    </tr>\n",
       "  </tbody>\n",
       "</table>\n",
       "</div>"
      ],
      "text/plain": [
       "   Unnamed: 0   Viggo MortensenR  \\\n",
       "0           0  Mortensen in 2020   \n",
       "1           1               Born   \n",
       "2           2        Citizenship   \n",
       "3           3         Alma mater   \n",
       "4           4        Occupations   \n",
       "5           5       Years active   \n",
       "6           6             Spouse   \n",
       "7           7            Partner   \n",
       "8           8           Children   \n",
       "9           9             Awards   \n",
       "\n",
       "                                  Viggo MortensenR.1  \n",
       "0                                  Mortensen in 2020  \n",
       "1  Viggo Peter Mortensen Jr. October 20, 1958 (ag...  \n",
       "2                            United StatesDenmark[1]  \n",
       "3                            St. Lawrence University  \n",
       "4                Actorartistmusiciandirectorproducer  \n",
       "5                                       1984–present  \n",
       "6            Exene Cervenka ​ ​(m. 1987; div. 1997)​  \n",
       "7                         Ariadna Gil (2009–present)  \n",
       "8                                                  1  \n",
       "9                                          Full list  "
      ]
     },
     "execution_count": 9,
     "metadata": {},
     "output_type": "execute_result"
    }
   ],
   "source": [
    "films_table"
   ]
  },
  {
   "cell_type": "code",
   "execution_count": 10,
   "id": "42ee0897-4023-4eb1-bcf9-0b529a0b5c3f",
   "metadata": {},
   "outputs": [
    {
     "data": {
      "text/html": [
       "<div>\n",
       "<style scoped>\n",
       "    .dataframe tbody tr th:only-of-type {\n",
       "        vertical-align: middle;\n",
       "    }\n",
       "\n",
       "    .dataframe tbody tr th {\n",
       "        vertical-align: top;\n",
       "    }\n",
       "\n",
       "    .dataframe thead th {\n",
       "        text-align: right;\n",
       "    }\n",
       "</style>\n",
       "<table border=\"1\" class=\"dataframe\">\n",
       "  <thead>\n",
       "    <tr style=\"text-align: right;\">\n",
       "      <th></th>\n",
       "      <th>Viggo MortensenR</th>\n",
       "      <th>Viggo MortensenR.1</th>\n",
       "    </tr>\n",
       "  </thead>\n",
       "  <tbody>\n",
       "    <tr>\n",
       "      <th>0</th>\n",
       "      <td>Mortensen in 2020</td>\n",
       "      <td>Mortensen in 2020</td>\n",
       "    </tr>\n",
       "    <tr>\n",
       "      <th>1</th>\n",
       "      <td>Born</td>\n",
       "      <td>Viggo Peter Mortensen Jr. October 20, 1958 (ag...</td>\n",
       "    </tr>\n",
       "    <tr>\n",
       "      <th>2</th>\n",
       "      <td>Citizenship</td>\n",
       "      <td>United StatesDenmark[1]</td>\n",
       "    </tr>\n",
       "    <tr>\n",
       "      <th>3</th>\n",
       "      <td>Alma mater</td>\n",
       "      <td>St. Lawrence University</td>\n",
       "    </tr>\n",
       "    <tr>\n",
       "      <th>4</th>\n",
       "      <td>Occupations</td>\n",
       "      <td>Actorartistmusiciandirectorproducer</td>\n",
       "    </tr>\n",
       "    <tr>\n",
       "      <th>5</th>\n",
       "      <td>Years active</td>\n",
       "      <td>1984–present</td>\n",
       "    </tr>\n",
       "    <tr>\n",
       "      <th>6</th>\n",
       "      <td>Spouse</td>\n",
       "      <td>Exene Cervenka ​ ​(m. 1987; div. 1997)​</td>\n",
       "    </tr>\n",
       "    <tr>\n",
       "      <th>7</th>\n",
       "      <td>Partner</td>\n",
       "      <td>Ariadna Gil (2009–present)</td>\n",
       "    </tr>\n",
       "    <tr>\n",
       "      <th>8</th>\n",
       "      <td>Children</td>\n",
       "      <td>1</td>\n",
       "    </tr>\n",
       "    <tr>\n",
       "      <th>9</th>\n",
       "      <td>Awards</td>\n",
       "      <td>Full list</td>\n",
       "    </tr>\n",
       "  </tbody>\n",
       "</table>\n",
       "</div>"
      ],
      "text/plain": [
       "    Viggo MortensenR                                 Viggo MortensenR.1\n",
       "0  Mortensen in 2020                                  Mortensen in 2020\n",
       "1               Born  Viggo Peter Mortensen Jr. October 20, 1958 (ag...\n",
       "2        Citizenship                            United StatesDenmark[1]\n",
       "3         Alma mater                            St. Lawrence University\n",
       "4        Occupations                Actorartistmusiciandirectorproducer\n",
       "5       Years active                                       1984–present\n",
       "6             Spouse            Exene Cervenka ​ ​(m. 1987; div. 1997)​\n",
       "7            Partner                         Ariadna Gil (2009–present)\n",
       "8           Children                                                  1\n",
       "9             Awards                                          Full list"
      ]
     },
     "execution_count": 10,
     "metadata": {},
     "output_type": "execute_result"
    }
   ],
   "source": [
    "tables[0].to_csv('films.csv', index=False)\n",
    "films_table = pd.read_csv('films.csv')\n",
    "films_table"
   ]
  },
  {
   "cell_type": "code",
   "execution_count": null,
   "id": "718bac3e-7f13-4426-834c-91530dcb39ef",
   "metadata": {},
   "outputs": [],
   "source": []
  }
 ],
 "metadata": {
  "kernelspec": {
   "display_name": "Python 3",
   "language": "python",
   "name": "python3"
  },
  "language_info": {
   "codemirror_mode": {
    "name": "ipython",
    "version": 3
   },
   "file_extension": ".py",
   "mimetype": "text/x-python",
   "name": "python",
   "nbconvert_exporter": "python",
   "pygments_lexer": "ipython3",
   "version": "3.12.2"
  }
 },
 "nbformat": 4,
 "nbformat_minor": 5
}
