{
 "cells": [
  {
   "cell_type": "markdown",
   "metadata": {},
   "source": [
    "# Functions and Libraries"
   ]
  },
  {
   "cell_type": "markdown",
   "metadata": {},
   "source": [
    "## Functions\n",
    "\n",
    "methods or functions are blocks of code that are only executed when called\n",
    "\n",
    "All methods are defined using snake_case\n",
    "\n",
    "Methods can take arguments (or parameters) that we \"pass in\" separated by a comma\n",
    "\n",
    "All methods are declared using the def keyword\n",
    "\n",
    "The return keyword indicates whether the function should return a value (useful if assigning to a variable)"
   ]
  },
  {
   "cell_type": "code",
   "execution_count": 1,
   "metadata": {},
   "outputs": [
    {
     "name": "stdout",
     "output_type": "stream",
     "text": [
      "hello Amber!\n",
      "hello Carlo!\n",
      "15\n",
      "Hi! My name is Ken\n",
      "Hi! My name is Amber\n",
      "Who's a good boi? you are Ule\n",
      "The most horrible child is Tobias\n",
      "the nicest child is Linus\n",
      "6\n",
      "5\n",
      "4\n",
      "3\n",
      "2\n",
      "1\n",
      "1\n",
      "3\n",
      "6\n",
      "10\n",
      "15\n",
      "21\n"
     ]
    },
    {
     "data": {
      "text/plain": [
       "21"
      ]
     },
     "execution_count": 1,
     "metadata": {},
     "output_type": "execute_result"
    }
   ],
   "source": [
    "def say_hello(name: str):\n",
    "    print('hello ' + name + '!')\n",
    "\n",
    "\n",
    "say_hello('Amber')\n",
    "say_hello('Carlo')\n",
    "\n",
    "def add(a: int, b: int):\n",
    "    return a + b\n",
    "\n",
    "result: int = add(5, 10)\n",
    "\n",
    "print(result)\n",
    "\n",
    "\n",
    "# talk about all the bad ideas python has when talkin' 'bout functions\n",
    "\n",
    "# default  value\n",
    "\n",
    "def say_hello_v2(name = \"Amber\"):\n",
    "  print(\"Hi! My name is \" + name)\n",
    "\n",
    "say_hello_v2('Ken')\n",
    "say_hello_v2()\n",
    "\n",
    "\n",
    "#declare constant instead\n",
    "\n",
    "# variable variables key value pairs\n",
    "def dog_names(dog2, dog3, dog1):\n",
    "  print(\"Who's a good boi? you are \" + dog1)\n",
    "\n",
    "dog_names(dog1 = \"Ule\", dog2 = \"Idaho\", dog3 = \"Ossi\")\n",
    "\n",
    "#this just creates confusion really\n",
    "\n",
    "#unknown number of parameters\n",
    "def horrible_children(*kids):\n",
    "  print(\"The most horrible child is \" + kids[1])\n",
    "\n",
    "horrible_children(\"Emil\", \"Tobias\")\n",
    "\n",
    "def best_children(kids):\n",
    "    print('the nicest child is ' + kids[-1])\n",
    "\n",
    "kids=['emil', 'Linus']          \n",
    "best_children(kids)\n",
    "\n",
    "# just use a list or figure out what you are doing first ;)\n",
    "\n",
    "# RECURSION\n",
    "\n",
    "def recursion(k: int):\n",
    "  if(k > 0):\n",
    "    print(k)\n",
    "    result = k + recursion(k - 1)\n",
    "    print(f'{result}')\n",
    "  else:\n",
    "    result = 0\n",
    "  return result\n",
    "\n",
    "\n",
    "recursion(6)\n",
    "\n",
    "\n",
    "# avoid tail recursion infinite loop"
   ]
  },
  {
   "cell_type": "markdown",
   "metadata": {},
   "source": [
    "## Libraries\n",
    "\n",
    "Libraries are collections of functions that can be imported (as we did before) into another file and used.\n",
    "\n",
    "One of python strengths, is the library ecosystem, which is vast and comprehensive.\n",
    "\n",
    "Using 3rd party libraries saves us time and can even help us fill in some gaps in our own expertise.\n",
    "\n",
    "It is important to learn how to use libraries and how to understand what libraries do and how they work."
   ]
  },
  {
   "cell_type": "markdown",
   "metadata": {},
   "source": [
    "### The Repository\n",
    "[The repo link](https://pypi.org/)\n",
    "\n",
    "The Python Package Index (PyPI) is a repository of software for the Python programming language.\n",
    "\n",
    "It also gives you links to the code and documentation of each package."
   ]
  },
  {
   "cell_type": "markdown",
   "metadata": {},
   "source": [
    "### The Package Manager\n",
    "\n",
    "pip is the package installer for Python. You can use pip to install packages from the Python Package Index and other indexes.\n",
    "\n",
    "Let's use it to install NumPy and import the library."
   ]
  },
  {
   "cell_type": "markdown",
   "metadata": {},
   "source": [
    "### Numpy\n",
    "\n",
    "NumPy (Numerical Python) or np is a python library for the creation and manipulation of multidimensional arrays, matrices and the statistical/mathematical operation one might want to perform on them.\n",
    "\n",
    "It is an essential package for python and data analysis that anybody is bound to encounter at one point or another in their journey. \n",
    "\n",
    "\n",
    "\n",
    "### Why NumPy\n",
    "\n",
    "Numpy's core library are written in low level languages such as C/C++/Fortran allowing for faster than regular python operation on arrays and matrices.  It also generally makes np's data structures more memory efficient than their vanilla python counterparts.\n",
    "\n",
    "It is highly compatible with most other data analysis libraries such as Pandas, as it is a de facto standard library in any project of this kind.\n",
    "\n",
    "\n",
    "\n",
    "### Multidimensional Arrays\n",
    "\n",
    "The most important object in the np library is probably the ndarry object. This is a multidimensional array object that acts as a fast container for large datasets.\n",
    "\n",
    "\n",
    "\n",
    "#### Getting started with NumPy\n",
    "\n",
    "In this example we install np using the pip installer. This could also be done via Conda and other python package managers so chose whichever suits your dev env best.\n",
    "\n",
    "```python\n",
    "# Install via Pip in terminal\n",
    "pip install numpy\n",
    "```"
   ]
  },
  {
   "cell_type": "code",
   "execution_count": 2,
   "metadata": {},
   "outputs": [
    {
     "name": "stdout",
     "output_type": "stream",
     "text": [
      "(2, 3)\n",
      "2\n",
      "float64\n",
      "[1 4 3 8]\n",
      "[[ 1  4  3  8]\n",
      " [48  9 39  3]]\n",
      "2\n",
      "[0. 0. 0. 0. 0.]\n",
      "[1. 1. 1. 1. 1.]\n",
      "[[0. 0.]\n",
      " [0. 0.]\n",
      " [0. 0.]\n",
      " [0. 0.]\n",
      " [0. 0.]]\n",
      "[0 1 2 3 4 5 6 7 8 9]\n",
      "float64\n",
      "int32\n"
     ]
    }
   ],
   "source": [
    "# import the library\n",
    "\n",
    "import numpy as np\n",
    "\n",
    "# The library will be accessible as np\n",
    "\n",
    "# NdArrays (Multidimensional arrays)\n",
    "# Random data \n",
    "\n",
    "data = np.random.randn(2, 3)    \n",
    "# creates a 2 dimensional array with 3 random elements per dimensions\n",
    "\n",
    "# find array dimensions\n",
    "print (data.shape)\n",
    "# output (2, 3)\n",
    "\n",
    "# just number of dimensions\n",
    "print(data.ndim)\n",
    "# output: 2\n",
    "\n",
    "# find type of data \n",
    "print(data.dtype)\n",
    "# output: float64\n",
    "\n",
    "# make array from list \n",
    "list1 = [1, 4, 3, 8]\n",
    "\n",
    "arr1 = np.array(list1)\n",
    "print(arr1)\n",
    "# output:  [1 4 3 8]\n",
    "\n",
    "# nested lists are converted to multidimensional arrays\n",
    "# note they need to be same length\n",
    "list2 = [[1, 4, 3, 8], [48, 9, 39, 3]]\n",
    "arr2 = np.array(list2)\n",
    "print(arr2)\n",
    "# output:  [[ 1  4  3  8][48  9 39  3]] \n",
    "\n",
    "print(arr2.ndim)\n",
    "# output: 2\n",
    "\n",
    "# create array and fill with 0s\n",
    "zeros = np.zeros(5)\n",
    "print (zeros)\n",
    "# [0. 0. 0. 0. 0.]\n",
    "\n",
    "# create array and fill with 1s\n",
    "ones = np.ones(5)\n",
    "print (ones)\n",
    "# [1. 1. 1. 1. 1.]\n",
    "\n",
    "# add dimensions \n",
    "\n",
    "zeros2D = np.zeros((5, 2))\n",
    "print (zeros2D) \n",
    "# [[0. 0.]\n",
    "#  [0. 0.]\n",
    "#  [0. 0.]\n",
    "#  [0. 0.]\n",
    "#  [0. 0.]]\n",
    "\n",
    "# create array of sequential numbers in range\n",
    "seq = np.arange(10)\n",
    "print (seq)\n",
    "# [0 1 2 3 4 5 6 7 8 9]\n",
    "\n",
    "\n",
    "# specify data type\n",
    "arrWType = np.array([1, 2, 3], dtype=np.float64)\n",
    "print (arrWType.dtype)\n",
    "# float64\n",
    "\n",
    "# cast array \n",
    "arrWDiffType = arrWType.astype(np.int32)\n",
    "print (arrWDiffType.dtype)\n",
    "# int32 "
   ]
  },
  {
   "cell_type": "markdown",
   "metadata": {},
   "source": [
    "### NumPy Arithmetic operations"
   ]
  },
  {
   "cell_type": "code",
   "execution_count": 3,
   "metadata": {},
   "outputs": [
    {
     "name": "stdout",
     "output_type": "stream",
     "text": [
      "[ 2  8  6 16]\n",
      "[ 1 16  9 64]\n",
      "[0 0 0 0]\n",
      "[1. 1. 1. 1.]\n",
      "[2.71828183e+00 5.45981500e+01 2.00855369e+01 2.98095799e+03]\n",
      "[ 1.64872127  7.3890561   4.48168907 54.59815003]\n"
     ]
    }
   ],
   "source": [
    "# arr1 [1 4 3 8]\n",
    "sum = arr1 + arr1 \n",
    "print (sum)\n",
    "#[ 2  8  6 16]\n",
    "\n",
    "times = arr1 * arr1 \n",
    "print (times)\n",
    "#[ 1 16  9 64]\n",
    "\n",
    "minus = arr1 - arr1 \n",
    "print (minus)\n",
    "#[0 0 0 0]\n",
    "\n",
    "div = arr1 / arr1\n",
    "print (div)\n",
    "#[1. 1. 1. 1.]\n",
    "\n",
    "ex = np.exp(arr1)\n",
    "print (ex)\n",
    "# [2.71828183e+00 5.45981500e+01 2.00855369e+01 2.98095799e+03]\n",
    "\n",
    "sqrt = np.sqrt(ex)\n",
    "print (sqrt)\n",
    "# [ 1.64872127  7.3890561   4.48168907 54.59815003]"
   ]
  },
  {
   "cell_type": "markdown",
   "metadata": {},
   "source": [
    "### Indexing, Slicing and copying"
   ]
  },
  {
   "cell_type": "code",
   "execution_count": 4,
   "metadata": {},
   "outputs": [
    {
     "name": "stdout",
     "output_type": "stream",
     "text": [
      "3\n",
      "[3 8]\n",
      "[1 4]\n",
      "[12  4]\n",
      "[1 4 3 8]\n"
     ]
    }
   ],
   "source": [
    "print (arr1[2])\n",
    "# 3\n",
    "\n",
    "print (arr1[2:4])\n",
    "# [3 8]\n",
    "\n",
    "# avoid aliasing by using .copy()\n",
    "sli = arr1[0:2].copy()\n",
    "print (sli)\n",
    "# [1 4]\n",
    "\n",
    "sli[0] = 12\n",
    "print (sli)\n",
    "# [12  4]\n",
    "\n",
    "print (arr1)\n",
    "# [1 4 3 8]\n",
    "\n",
    "# no aliasing"
   ]
  },
  {
   "cell_type": "markdown",
   "metadata": {},
   "source": [
    "### Transposing and reshaping "
   ]
  },
  {
   "cell_type": "code",
   "execution_count": 5,
   "metadata": {},
   "outputs": [
    {
     "name": "stdout",
     "output_type": "stream",
     "text": [
      "[[0 1 2 3 4]\n",
      " [5 6 7 8 9]]\n",
      "[[0 5]\n",
      " [1 6]\n",
      " [2 7]\n",
      " [3 8]\n",
      " [4 9]]\n"
     ]
    }
   ],
   "source": [
    "tr = np.arange(10).reshape(2,5)\n",
    "# create array of 10 el 0 to 9 and reshape into a 2d array of 5 el\n",
    "print (tr)\n",
    "# [[0 1 2 3 4]\n",
    "#  [5 6 7 8 9]]\n",
    "\n",
    "\n",
    "# invert axis\n",
    "print (tr.T)\n",
    "# [[0 5]\n",
    "#  [1 6]\n",
    "#  [2 7]\n",
    "#  [3 8]\n",
    "#  [4 9]]"
   ]
  },
  {
   "cell_type": "code",
   "execution_count": null,
   "metadata": {},
   "outputs": [],
   "source": []
  }
 ],
 "metadata": {
  "kernelspec": {
   "display_name": "Python 3",
   "language": "python",
   "name": "python3"
  },
  "language_info": {
   "codemirror_mode": {
    "name": "ipython",
    "version": 3
   },
   "file_extension": ".py",
   "mimetype": "text/x-python",
   "name": "python",
   "nbconvert_exporter": "python",
   "pygments_lexer": "ipython3",
   "version": "3.12.2"
  }
 },
 "nbformat": 4,
 "nbformat_minor": 4
}
