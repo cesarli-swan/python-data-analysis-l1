{
 "cells": [
  {
   "cell_type": "markdown",
   "metadata": {},
   "source": [
    "# Control Flow\n",
    "\n",
    "## Conditional\n",
    "\n",
    "Conditionals as the name suggests are used to execute code blocks depending on certain conditions.\n",
    "\n",
    "They are mainly expressed with the if, else if (elif) and else statements.\n",
    "\n",
    "They are based on logical conditions which have to resolve a True or False value, conditions can be chained by using logical operators such as \"and\", \"or\" and \"not\"\n",
    "\n",
    "The code can be read as: if \"condition is true\" execute code, else if \"other condition is true\" execute code, else \"if none of the previous conditions are true\" execute code.\n",
    "\n",
    "The example should make things a lot clearer. "
   ]
  },
  {
   "cell_type": "code",
   "execution_count": 1,
   "metadata": {},
   "outputs": [
    {
     "name": "stdout",
     "output_type": "stream",
     "text": [
      "True\n",
      "nope\n",
      "nope\n"
     ]
    }
   ],
   "source": [
    "# --- IF STATEMENTS----\n",
    "\n",
    "# if, else & elif execute different code depending\n",
    "# on conditions\n",
    "\n",
    "var: str = 'String'\n",
    "tmp: int = 5\n",
    "\n",
    "if (var == 'String'):\n",
    "    print('True')\n",
    "else:\n",
    "    print('False')\n",
    "\n",
    "if (len(var) == 2):\n",
    "    print('var is short')\n",
    "elif (len(var) == 4):\n",
    "    print('var is medium')\n",
    "else:\n",
    "    print('nope')  \n",
    "\n",
    "lenBet2And10 = len(var) >= 2 and len(var)<= 10\n",
    "\n",
    "if (lenBet2And10):\n",
    "    if (len(var) == 2):\n",
    "        print('var is short')\n",
    "    elif (len(var) == 4):\n",
    "        print('var is medium')\n",
    "    else:\n",
    "        print('nope')\n",
    "else:\n",
    "    print('False') "
   ]
  },
  {
   "cell_type": "markdown",
   "metadata": {},
   "source": [
    "## What are Loops?\n",
    "\n",
    "Loops are blocks of code that execute repeatedly (in a loop) until a condition is met. Usually this condition can be a logical statement or a range. They are a great tool to write shorter code although they should be used carefully.\n",
    "\n",
    "Loops are often the cause of infinitely running code or particularly slow code, so a bit of care should be taken when writing them.\n",
    "\n",
    "You should always make sure, unless you intend to run it ad infinitum, that the loop has an exit condition.\n",
    "\n",
    "### Break and Continue\n",
    "\n",
    "A break statement will immediately exit the current loop.\n",
    "\n",
    "A continue statement will skip the rest of the loop and go back to the start.\n",
    "\n",
    "### Else\n",
    "\n",
    "An else statement at the end of a loop indicates a block of code that will always run after the loop has finished executing.\n",
    "\n",
    "\n",
    "\n",
    "## While Loop\n",
    "\n",
    "While loops will execute as long as a Boolean condition is not met, or a break statement is reached.\n"
   ]
  },
  {
   "cell_type": "code",
   "execution_count": 2,
   "metadata": {},
   "outputs": [
    {
     "name": "stdout",
     "output_type": "stream",
     "text": [
      "1\n",
      "2\n",
      "3\n",
      "4\n",
      "0\n",
      "2\n",
      "4\n",
      "6\n",
      "8\n",
      "1\n",
      "9.2\n",
      "Ule\n",
      "True\n",
      "1\n",
      "2\n",
      "3\n",
      "4\n",
      "5\n",
      "i is no longer less than 6\n"
     ]
    }
   ],
   "source": [
    "# ----- LOOPS -----\n",
    "# While : Execute while condition is True\n",
    "END_LOOP: int = 5\n",
    "w1: int = 1\n",
    "while w1 < END_LOOP:\n",
    "    print(w1)\n",
    "    w1 += 1\n",
    "\n",
    "END_LOOP_TWO = 20\n",
    "\n",
    "w2: int = 0\n",
    "while w2 <= END_LOOP_TWO:\n",
    "    if w2 % 2 == 0:\n",
    "        print(w2)\n",
    "    elif w2 == 9:\n",
    "        # Forces the loop to end all together\n",
    "        break\n",
    "    else:\n",
    "        # Shorthand for i = i + 1\n",
    "        w2 += 1\n",
    "        # Skips to the next iteration of the loop\n",
    "        continue\n",
    "    w2 += 1\n",
    " \n",
    "# Cycle through list\n",
    "l4 = [1, 9.2, \"Ule\", True]\n",
    "while len(l4):\n",
    "    print(l4.pop(0))\n",
    "\n",
    "END_LOOP_THREE: int = 6\n",
    "i: int = 1\n",
    "while i < END_LOOP_THREE:\n",
    "  print(i)\n",
    "  i += 1\n",
    "else:\n",
    "  print(\"i is no longer less than 6\")"
   ]
  },
  {
   "cell_type": "markdown",
   "metadata": {},
   "source": [
    "## For Loop\n",
    "\n",
    "For loops are used to iterate over sequences. They are really useful when utilised in conjunction with collections."
   ]
  },
  {
   "cell_type": "code",
   "execution_count": 3,
   "metadata": {},
   "outputs": [
    {
     "name": "stdout",
     "output_type": "stream",
     "text": [
      "0  1  2  3  4  5  6  7  8  9  \n",
      "\n",
      "1\n",
      "9.2\n",
      "Ule\n",
      "True\n",
      "2\n",
      "4\n",
      "6\n",
      "1\n",
      "2\n",
      "3\n",
      "10\n",
      "20\n",
      "30\n",
      "100\n",
      "200\n",
      "300\n"
     ]
    }
   ],
   "source": [
    "# For Loop\n",
    "# Allows you to perform an action a set number of times\n",
    "# Range performs the action 10 times 0 - 9\n",
    "# end=\"\" eliminates newline\n",
    "\n",
    "for x in range(0, 10):\n",
    "    print(x, ' ', end=\"\")\n",
    "print('\\n')\n",
    " \n",
    "# Cycle through list\n",
    "l4 = [1, 9.2, \"Ule\", True]\n",
    "for x in l4:\n",
    "    print(x)\n",
    " \n",
    "#You can also define a list of numbers to\n",
    "# cycle through\n",
    "for x in [2, 4, 6]:\n",
    "    print(x)\n",
    "\n",
    "# You can double up for loops to cycle through lists\n",
    "numList: list[list[int]] = [[1, 2, 3], [10, 20, 30], [100, 200, 300]]\n",
    "\n",
    "for l in numList:\n",
    "    for el in l:\n",
    "        print(el)"
   ]
  },
  {
   "cell_type": "markdown",
   "metadata": {},
   "source": [
    "## Iterators\n",
    "\n",
    "Iterators are objects that contain countable values and will return a value at the time."
   ]
  },
  {
   "cell_type": "code",
   "execution_count": 4,
   "metadata": {},
   "outputs": [
    {
     "name": "stdout",
     "output_type": "stream",
     "text": [
      "6\n",
      "[0, 1, 2, 3, 4]\n",
      "[0, 2, 4, 6, 8]\n",
      "1\n",
      "2\n",
      "3\n",
      "10\n",
      "20\n",
      "30\n",
      "100\n",
      "200\n",
      "300\n"
     ]
    }
   ],
   "source": [
    "# ----- ITERATORS -----\n",
    "# You can pass an object to iter() which returns\n",
    "# an iterator which allows you to cycle thru a list\n",
    "l5: list[int] = [6, 9, 12]\n",
    "itr = iter(l5)\n",
    "print(next(itr))  # Grab next value\n",
    " \n",
    "# ----- RANGES -----\n",
    "# The range() function creates integer iterables\n",
    "print(list(range(0, 5)))\n",
    " \n",
    "# You can define step\n",
    "print(list(range(0, 10, 2)))\n",
    " \n",
    "for x in range(0, 3):\n",
    "    for y in range(0, 3):\n",
    "        print(numList[x][y])"
   ]
  }
 ],
 "metadata": {
  "kernelspec": {
   "display_name": "Python 3",
   "language": "python",
   "name": "python3"
  },
  "language_info": {
   "codemirror_mode": {
    "name": "ipython",
    "version": 3
   },
   "file_extension": ".py",
   "mimetype": "text/x-python",
   "name": "python",
   "nbconvert_exporter": "python",
   "pygments_lexer": "ipython3",
   "version": "3.12.2"
  }
 },
 "nbformat": 4,
 "nbformat_minor": 4
}
